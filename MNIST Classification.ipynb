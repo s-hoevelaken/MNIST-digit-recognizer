{
 "cells": [
  {
   "cell_type": "code",
   "execution_count": 227,
   "id": "3df5b0c9-c43d-4149-bb34-d3f446c499ec",
   "metadata": {},
   "outputs": [],
   "source": [
    "import warnings\n",
    "warnings.filterwarnings(\"ignore\")\n",
    "import tensorflow as tf\n",
    "import numpy as np\n",
    "import pandas as pd\n",
    "import matplotlib.pyplot as plt\n",
    "%matplotlib inline"
   ]
  },
  {
   "cell_type": "code",
   "execution_count": 228,
   "id": "4e2ee04e-5dbb-4558-9a0a-e60b76ea7018",
   "metadata": {},
   "outputs": [],
   "source": [
    "(X_train,y_train),(X_test,y_test)=tf.keras.datasets.mnist.load_data()"
   ]
  },
  {
   "cell_type": "code",
   "execution_count": 229,
   "id": "e70e1d5e-7300-48ca-82a9-cfe7f3e41675",
   "metadata": {},
   "outputs": [
    {
     "data": {
      "image/png": "[encoded data removed]",
      "text/plain": [
       "<Figure size 1500x400 with 9 Axes>"
      ]
     },
     "metadata": {},
     "output_type": "display_data"
    }
   ],
   "source": [
    "fig, axes = plt.subplots(ncols=9, sharex=False, sharey=True, figsize=(15, 4))\n",
    "for i in range(9):\n",
    "    axes[i].set_title(y_train[i])\n",
    "    axes[i].imshow(X_train[i], cmap='gray')\n",
    "    axes[i].get_xaxis().set_visible(False)\n",
    "    axes[i].get_yaxis().set_visible(False)\n",
    "plt.show()"
   ]
  },
  {
   "cell_type": "code",
   "execution_count": 216,
   "id": "37820a48-982c-49e9-b0bb-e7af5fc20533",
   "metadata": {},
   "outputs": [],
   "source": [
    "# reshaping data to common shape for cnn, and normalizing\n",
    "X_train = X_train.reshape((60000, 28, 28, 1)).astype('float32') / 255\n",
    "X_test = X_test.reshape((10000, 28, 28, 1)).astype('float32') / 255"
   ]
  },
  {
   "cell_type": "code",
   "execution_count": 217,
   "id": "22b438fc-bf15-4a0a-bcf7-e05657d173f8",
   "metadata": {},
   "outputs": [],
   "source": [
    "# hot one encoding\n",
    "y_train = tf.keras.utils.to_categorical(y_train)\n",
    "y_test = tf.keras.utils.to_categorical(y_test)"
   ]
  },
  {
   "cell_type": "code",
   "execution_count": 218,
   "id": "83ca5fcd-5a8f-490e-adef-dd855cce3cd8",
   "metadata": {},
   "outputs": [],
   "source": [
    "from tensorflow.keras.models import Sequential\n",
    "from tensorflow.keras.layers import Dense\n",
    "from tensorflow.keras import layers, models"
   ]
  },
  {
   "cell_type": "code",
   "execution_count": 219,
   "id": "d6a9d3b8-39e2-4897-9f37-f5e5b9247ce1",
   "metadata": {},
   "outputs": [],
   "source": [
    "model = Sequential()\n",
    "model.add(layers.Conv2D(32, (3, 3), activation='relu', input_shape=(28, 28, 1)))\n",
    "model.add(layers.MaxPooling2D((2, 2)))\n",
    "model.add(layers.Conv2D(64, (3, 3), activation='relu'))\n",
    "model.add(layers.MaxPooling2D((2, 2)))\n",
    "model.add(layers.Conv2D(64, (3, 3), activation='relu'))\n",
    "model.add(layers.Flatten())\n",
    "model.add(layers.Dense(64, activation='relu'))\n",
    "model.add(layers.Dense(10, activation='softmax'))"
   ]
  },
  {
   "cell_type": "code",
   "execution_count": 231,
   "id": "1367c1b2-dd9f-4652-a9fe-306fde9cf515",
   "metadata": {},
   "outputs": [
    {
     "name": "stdout",
     "output_type": "stream",
     "text": [
      "Model: \"sequential_18\"\n",
      "_________________________________________________________________\n",
      " Layer (type)                Output Shape              Param #   \n",
      "=================================================================\n",
      " conv2d_9 (Conv2D)           (None, 26, 26, 32)        320       \n",
      "                                                                 \n",
      " max_pooling2d_6 (MaxPoolin  (None, 13, 13, 32)        0         \n",
      " g2D)                                                            \n",
      "                                                                 \n",
      " conv2d_10 (Conv2D)          (None, 11, 11, 64)        18496     \n",
      "                                                                 \n",
      " max_pooling2d_7 (MaxPoolin  (None, 5, 5, 64)          0         \n",
      " g2D)                                                            \n",
      "                                                                 \n",
      " conv2d_11 (Conv2D)          (None, 3, 3, 64)          36928     \n",
      "                                                                 \n",
      " flatten_3 (Flatten)         (None, 576)               0         \n",
      "                                                                 \n",
      " dense_6 (Dense)             (None, 64)                36928     \n",
      "                                                                 \n",
      " dense_7 (Dense)             (None, 10)                650       \n",
      "                                                                 \n",
      "=================================================================\n",
      "Total params: 93322 (364.54 KB)\n",
      "Trainable params: 93322 (364.54 KB)\n",
      "Non-trainable params: 0 (0.00 Byte)\n",
      "_________________________________________________________________\n"
     ]
    }
   ],
   "source": [
    "model.summary()"
   ]
  },
  {
   "cell_type": "code",
   "execution_count": 220,
   "id": "9cee9b07-8bdb-4906-96ad-57a52c8f13e7",
   "metadata": {},
   "outputs": [],
   "source": [
    "model.compile(optimizer='adam', loss='categorical_crossentropy', metrics=['accuracy'])"
   ]
  },
  {
   "cell_type": "code",
   "execution_count": 223,
   "id": "b0ff2fd3-adc0-448a-9402-352f8bd50baa",
   "metadata": {},
   "outputs": [
    {
     "name": "stdout",
     "output_type": "stream",
     "text": [
      "Epoch 1/20\n",
      "375/375 [==============================] - 6s 17ms/step - loss: 0.2860 - accuracy: 0.9142 - val_loss: 0.0912 - val_accuracy: 0.9722\n",
      "Epoch 2/20\n",
      "375/375 [==============================] - 6s 16ms/step - loss: 0.0679 - accuracy: 0.9786 - val_loss: 0.0650 - val_accuracy: 0.9810\n",
      "Epoch 3/20\n",
      "375/375 [==============================] - 6s 16ms/step - loss: 0.0477 - accuracy: 0.9850 - val_loss: 0.0477 - val_accuracy: 0.9863\n",
      "Epoch 4/20\n",
      "375/375 [==============================] - 6s 17ms/step - loss: 0.0365 - accuracy: 0.9886 - val_loss: 0.0439 - val_accuracy: 0.9874\n",
      "Epoch 5/20\n",
      "375/375 [==============================] - 6s 17ms/step - loss: 0.0286 - accuracy: 0.9906 - val_loss: 0.0424 - val_accuracy: 0.9869\n",
      "Epoch 6/20\n",
      "375/375 [==============================] - 7s 19ms/step - loss: 0.0256 - accuracy: 0.9913 - val_loss: 0.0445 - val_accuracy: 0.9872\n",
      "Epoch 7/20\n",
      "375/375 [==============================] - 7s 17ms/step - loss: 0.0204 - accuracy: 0.9936 - val_loss: 0.0554 - val_accuracy: 0.9836\n",
      "Epoch 8/20\n",
      "375/375 [==============================] - 6s 17ms/step - loss: 0.0171 - accuracy: 0.9947 - val_loss: 0.0484 - val_accuracy: 0.9871\n",
      "Epoch 9/20\n",
      "375/375 [==============================] - 7s 17ms/step - loss: 0.0145 - accuracy: 0.9951 - val_loss: 0.0439 - val_accuracy: 0.9893\n",
      "Epoch 10/20\n",
      "375/375 [==============================] - 6s 17ms/step - loss: 0.0123 - accuracy: 0.9960 - val_loss: 0.0476 - val_accuracy: 0.9893\n",
      "Epoch 11/20\n",
      "375/375 [==============================] - 6s 17ms/step - loss: 0.0111 - accuracy: 0.9962 - val_loss: 0.0457 - val_accuracy: 0.9889\n",
      "Epoch 12/20\n",
      "375/375 [==============================] - 6s 17ms/step - loss: 0.0111 - accuracy: 0.9963 - val_loss: 0.0603 - val_accuracy: 0.9856\n",
      "Epoch 13/20\n",
      "375/375 [==============================] - 6s 17ms/step - loss: 0.0094 - accuracy: 0.9966 - val_loss: 0.0549 - val_accuracy: 0.9871\n",
      "Epoch 14/20\n",
      "375/375 [==============================] - 6s 17ms/step - loss: 0.0080 - accuracy: 0.9975 - val_loss: 0.0475 - val_accuracy: 0.9898\n",
      "Epoch 15/20\n",
      "375/375 [==============================] - 6s 17ms/step - loss: 0.0072 - accuracy: 0.9974 - val_loss: 0.0523 - val_accuracy: 0.9887\n",
      "Epoch 16/20\n",
      "375/375 [==============================] - 6s 17ms/step - loss: 0.0083 - accuracy: 0.9970 - val_loss: 0.0468 - val_accuracy: 0.9890\n",
      "Epoch 17/20\n",
      "375/375 [==============================] - 6s 17ms/step - loss: 0.0043 - accuracy: 0.9987 - val_loss: 0.0491 - val_accuracy: 0.9893\n",
      "Epoch 18/20\n",
      "375/375 [==============================] - 7s 18ms/step - loss: 0.0065 - accuracy: 0.9977 - val_loss: 0.0507 - val_accuracy: 0.9900\n",
      "Epoch 19/20\n",
      "375/375 [==============================] - 7s 18ms/step - loss: 0.0056 - accuracy: 0.9980 - val_loss: 0.0628 - val_accuracy: 0.9875\n",
      "Epoch 20/20\n",
      "375/375 [==============================] - 6s 17ms/step - loss: 0.0058 - accuracy: 0.9979 - val_loss: 0.0476 - val_accuracy: 0.9913\n"
     ]
    },
    {
     "data": {
      "text/plain": [
       "<keras.src.callbacks.History at 0x29f588d90>"
      ]
     },
     "execution_count": 223,
     "metadata": {},
     "output_type": "execute_result"
    }
   ],
   "source": [
    "model.fit(X_train, y_train, epochs=20, batch_size=128, validation_split=0.2)"
   ]
  },
  {
   "cell_type": "code",
   "execution_count": 224,
   "id": "4d0c3f96-686d-4820-86f7-087d06ccfb40",
   "metadata": {},
   "outputs": [
    {
     "name": "stdout",
     "output_type": "stream",
     "text": [
      "Test score: 0.040578100830316544\n",
      "Test accuracy: 0.9909999966621399\n"
     ]
    }
   ],
   "source": [
    "score = model.evaluate(x=X_test, y=y_test, verbose=0)\n",
    "print(\"Test score:\", score[0])\n",
    "print(\"Test accuracy:\", score[1])"
   ]
  },
  {
   "cell_type": "code",
   "execution_count": null,
   "id": "cc09f670-347f-4986-9619-2ae3d4b9be07",
   "metadata": {},
   "outputs": [],
   "source": []
  }
 ],
 "metadata": {
  "kernelspec": {
   "display_name": "Python 3 (ipykernel)",
   "language": "python",
   "name": "python3"
  },
  "language_info": {
   "codemirror_mode": {
    "name": "ipython",
    "version": 3
   },
   "file_extension": ".py",
   "mimetype": "text/x-python",
   "name": "python",
   "nbconvert_exporter": "python",
   "pygments_lexer": "ipython3",
   "version": "3.11.4"
  }
 },
 "nbformat": 4,
 "nbformat_minor": 5
}
